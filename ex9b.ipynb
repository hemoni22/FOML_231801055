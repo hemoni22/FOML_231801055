{
 "cells": [
  {
   "cell_type": "code",
   "execution_count": 1,
   "id": "a3932843-e99c-451a-a6c2-da599bf5aa8b",
   "metadata": {},
   "outputs": [
    {
     "name": "stdout",
     "output_type": "stream",
     "text": [
      "Cluster Centers:\n",
      " [[ 0.54995517  0.28524553  0.96163041 -1.04670366]\n",
      " [ 1.23798946  0.60635612  2.00231725  1.91433481]\n",
      " [ 0.2373546   0.11577163  0.38170444  0.42466382]]\n"
     ]
    }
   ],
   "source": [
    "import numpy as np\n",
    "from sklearn.cluster import KMeans\n",
    "from sklearn.datasets import make_classification\n",
    "\n",
    "X, _ = make_classification(n_samples=100, n_features=4, n_clusters_per_class=1, random_state=42)\n",
    "\n",
    "kmeans = KMeans(n_clusters=3, random_state=42)\n",
    "kmeans.fit(X)\n",
    "\n",
    "print(\"Cluster Centers:\\n\", kmeans.cluster_centers_)"
   ]
  },
  {
   "cell_type": "code",
   "execution_count": null,
   "id": "079469b7-d2f8-43e3-a032-bb27a4546d2f",
   "metadata": {},
   "outputs": [],
   "source": []
  }
 ],
 "metadata": {
  "kernelspec": {
   "display_name": "Python 3 (ipykernel)",
   "language": "python",
   "name": "python3"
  },
  "language_info": {
   "codemirror_mode": {
    "name": "ipython",
    "version": 3
   },
   "file_extension": ".py",
   "mimetype": "text/x-python",
   "name": "python",
   "nbconvert_exporter": "python",
   "pygments_lexer": "ipython3",
   "version": "3.12.2"
  }
 },
 "nbformat": 4,
 "nbformat_minor": 5
}
